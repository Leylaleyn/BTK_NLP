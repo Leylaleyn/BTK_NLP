{
 "cells": [
  {
   "cell_type": "markdown",
   "id": "a69bbdb6-1ed9-4bef-9617-f57c854fb26e",
   "metadata": {},
   "source": [
    "# Metin Önişleme (Text Preprocessing)"
   ]
  },
  {
   "cell_type": "markdown",
   "id": "c8b217fb-33c9-4365-a032-1d0acad75bd8",
   "metadata": {},
   "source": [
    "A) Tokenize Etme İşlemi (Tokenization)\n",
    "\n",
    "B) Metin Temizleme (Text Cleaning)\n",
    "\n",
    "C) Metin Normalizasyonu (Text Normalization)\n",
    "\n",
    "D) Gövdeleme (Stemming) ve Baş Sözcük Çıkarma (Lemmatization)"
   ]
  },
  {
   "cell_type": "markdown",
   "id": "1112e2e7-7587-42ba-b3b2-db24ac666aa9",
   "metadata": {},
   "source": [
    "### A) Tokenize Etme İşlemi (Tokenization)"
   ]
  },
  {
   "cell_type": "markdown",
   "id": "da09bcf2-118f-4b84-9dda-cc9b33ad62f9",
   "metadata": {},
   "source": [
    "Metin önişleme dil işleme modelleri için önemli bir adımdır.\n",
    "\n",
    "{ Metin, önişleme, dil, işleme, modelleri, için, önemli, bir, adımdır}  -> tokenleştirdik"
   ]
  },
  {
   "cell_type": "markdown",
   "id": "5af4eee3-859d-4b0b-990b-d43df90ebb89",
   "metadata": {},
   "source": [
    "### B) Metin Temizleme (Text Cleaning)"
   ]
  },
  {
   "cell_type": "markdown",
   "id": "8ac48706-33e8-4c36-a6f4-df50baabee0b",
   "metadata": {},
   "source": [
    "#### Noktalama İşaretlerinin ve Özel Karakterlerin Kaldırılması"
   ]
  },
  {
   "cell_type": "code",
   "execution_count": 2,
   "id": "0a52f11b-48b0-4042-9a70-75634cd67029",
   "metadata": {},
   "outputs": [
    {
     "name": "stdout",
     "output_type": "stream",
     "text": [
      "Dil işlemede kullanılan kütüphaneler nltk spacy scikitlearn vb\n"
     ]
    }
   ],
   "source": [
    "import string\n",
    "message = \"Dil işlemede kullanılan kütüphaneler: nltk, spacy, scikit-learn vb.\"\n",
    "\n",
    "print(message.translate(str.maketrans('','',string.punctuation)))\n"
   ]
  },
  {
   "cell_type": "code",
   "execution_count": 3,
   "id": "50ff83f1-4a96-4786-afd8-d87181fc3af7",
   "metadata": {},
   "outputs": [
    {
     "name": "stdout",
     "output_type": "stream",
     "text": [
      "{'için', 'acaba', 've'}\n"
     ]
    }
   ],
   "source": [
    "# Etkisiz Kelimelerin ( STOP WORDS) Temizlenmesi\n",
    "\n",
    "stop_words = ['acaba','ve','bir','birçok','ama','için']\n",
    "message = 'Acaba metindeki dolgu kelimelerini bulmak ve temizlemek için ne yapılmalı?'\n",
    "\n",
    "S1 =  set(stop_words)\n",
    "S2 = set(message.lower().split())\n",
    "print(S1.intersection(S2))\n",
    "\n"
   ]
  },
  {
   "cell_type": "markdown",
   "id": "b4553250-a1c6-4cf6-8596-31a37a754a76",
   "metadata": {},
   "source": [
    "### C) Metin Normalizasyonu (Text Normalization)"
   ]
  },
  {
   "cell_type": "markdown",
   "id": "1672e882-0ca1-4335-9ce0-e49d7c0db5d6",
   "metadata": {},
   "source": [
    "#### Küçük harf -> Bir metin içerisindeki kelime istatistiklerin hesaplanması sırasında tekrarlardan kaçınmak amacıyla tüm kelimeler bütün harfleri küçük olacak şekilde dönüştürülür"
   ]
  },
  {
   "cell_type": "code",
   "execution_count": 6,
   "id": "9a75192a-6ee6-49e9-b6a4-a567c634f26a",
   "metadata": {},
   "outputs": [
    {
     "name": "stdout",
     "output_type": "stream",
     "text": [
      "metin içinde geçen kelime sayısı o metin için bir özniteliktir\n"
     ]
    }
   ],
   "source": [
    "message = \"Metin içinde geçen kelime sayısı o metin için bir özniteliktir\"\n",
    "print(message.lower())\n"
   ]
  },
  {
   "cell_type": "markdown",
   "id": "398dfde9-5e86-4041-a4f7-726b6a476ec2",
   "metadata": {},
   "source": [
    "#### Kuraldışı Kelimelerin Düzeltilmesi(Conversion of non-canonical words)"
   ]
  },
  {
   "cell_type": "code",
   "execution_count": 7,
   "id": "16932eef-cda6-445a-8129-210b86a330ef",
   "metadata": {},
   "outputs": [],
   "source": [
    "#doğusundanbatısınabuvatanhepimizin yeter ki insan olmasini bilelim\n",
    "# bana kaderin bir oyunu muu buu dırırırım\n",
    "# way ecem sni buralarda görmek şaşırtıcı"
   ]
  },
  {
   "cell_type": "markdown",
   "id": "ef267912-6559-49eb-896f-8c7caab01e95",
   "metadata": {},
   "source": [
    "#### Yazım Hataları\n",
    "\n",
    "> - Metin onişleme dil işleme modelleri için önemli bir adımdır\n",
    "> - Metin önşlme dil işleme modelleri için önemli bir adımdır.\n",
    "> - Metin önişşleme dil işleme modelleri için önemli bir adımdır.\n",
    "\n",
    "- Düzeltilmiş: Metin önişleme dil işleme modelleri için önemli bir adımdır."
   ]
  },
  {
   "cell_type": "markdown",
   "id": "780155c8-6ed4-4fc9-981a-1f8550490af1",
   "metadata": {},
   "source": [
    "### D) Gövdeleme (Stemming) ve Baş Sözlük Çıkarma (Lemmatization)"
   ]
  },
  {
   "cell_type": "markdown",
   "id": "ddf4c34e-b78d-4d31-bf71-9a7be48d0976",
   "metadata": {},
   "source": [
    "* yaşlılıktan     yaş-> stem  ,  yaşlılık -> lemma\n",
    "* yaşlanıyorum    yaş -> stem ,   yaşlan(-mak) -> lemma"
   ]
  },
  {
   "cell_type": "markdown",
   "id": "e7a3bc83-64ff-43fc-a64a-b55aaff8ca48",
   "metadata": {},
   "source": [
    "# Metin Öznitelik Çıkarımı (Text Feature Extraction)"
   ]
  },
  {
   "cell_type": "markdown",
   "id": "b3622263-6117-43e4-9424-e49a09655590",
   "metadata": {},
   "source": [
    "### A) Temel İstatistikler\n",
    "\n",
    "##### Temel istatistikleri genel olarak bir metin hakkında çıkarım yapmamıza olanak sağlar"
   ]
  },
  {
   "cell_type": "markdown",
   "id": "b3c58363-6686-4039-85e6-b1a548d3e42a",
   "metadata": {},
   "source": [
    "##### - Token istatikleri\n",
    "> - Kelime Sayısı\n",
    "> - Etkisiz kelimelerin sayısı\n",
    "> - Büyük harf\n",
    "> - Sayısal ifadelerin sayısı"
   ]
  },
  {
   "cell_type": "markdown",
   "id": "725d2b8e-b6e2-4d4d-87fe-bec58eecfac9",
   "metadata": {},
   "source": [
    "##### - Karakter istatikleri\n",
    "> - Cümle Karakter Sayısı\n",
    "> - Ortalama Kelime uzunluğu\n",
    "> - Özel Karakter Sayısı\n",
    "\n"
   ]
  },
  {
   "cell_type": "markdown",
   "id": "ace25f8d-2770-48c3-81e7-6953e91cf34b",
   "metadata": {},
   "source": [
    "#### B) Kelime Çantası Modeli (Bag of Words - BoW)"
   ]
  },
  {
   "cell_type": "markdown",
   "id": "ae44d742-0354-4058-895d-3eeebd5a0804",
   "metadata": {},
   "source": [
    "#### C) Terim Frekansı * Ters Dokuman Frekansı (TF*IDF) Skoru"
   ]
  },
  {
   "cell_type": "markdown",
   "id": "0e68111f-f62a-49a2-b5c2-30475eec6c89",
   "metadata": {},
   "source": [
    "#### D) N-gram Modeli\n",
    " ( N-gram modeli dil işleme problemlerinde sıklıkla kullanılan modellerdir.Cümlelerin otomatik tamamlanması,otomatik düzenlenmesi,dil bilgisi kurallarını kontrol etme gibi amaçlarda kullanılır)"
   ]
  },
  {
   "cell_type": "markdown",
   "id": "4a684841-d4f2-467d-a363-d50ee04f442f",
   "metadata": {},
   "source": [
    "## Metin Temsili  (Text Representation)\n",
    "\n",
    "##### Metinlerin bilgisayarların anlayacağı şekilde sayılara dönüştürülme işlemidir.\n"
   ]
  },
  {
   "cell_type": "markdown",
   "id": "4974b3b3-ce5c-4df5-a53b-2fa608227523",
   "metadata": {},
   "source": [
    "#### A) Frekans Tabanlı Temsiller (Frequence-baseed Representations)\n",
    "\n",
    "a) Kelime çantası modeli ve sayma vektörleri (Bag-of words model and count vectors)\n",
    "\n",
    "b) TF-IDF vektorizasyonu (TF*IDF vectorization)\n",
    "\n",
    "c) Eş-oluşum matrisleri (Co-occurence matrix)"
   ]
  },
  {
   "cell_type": "markdown",
   "id": "6a98789d-3401-4b22-bc8a-c7b98d61d696",
   "metadata": {},
   "source": [
    "#### B) Tahminleme Tabanlı Temsiller (Prediction-based Representations) "
   ]
  },
  {
   "cell_type": "markdown",
   "id": "f61f586d-48ab-4c47-8169-bd7b9012435e",
   "metadata": {},
   "source": [
    "##### a) Word2vec\n",
    "> * Sürekli Kelime Çantası Modeli (Continuous Bag-of-words Model -CBOW)\n",
    "> * Gram atla modeli (Skip gram model) -> büyük veri setleri için daha avantajlı\n",
    "##### b) GloVe ( Global Vectors for Word Representation)"
   ]
  },
  {
   "cell_type": "markdown",
   "id": "3b0045b4-df77-4efe-899a-5758d35585fb",
   "metadata": {},
   "source": [
    "### Word2vec\n",
    "\n",
    "->"
   ]
  },
  {
   "cell_type": "markdown",
   "id": "61360107-c7ac-4f65-8fa2-4f4af595fa72",
   "metadata": {},
   "source": [
    "### GloVe\n",
    "\n",
    "->"
   ]
  },
  {
   "cell_type": "markdown",
   "id": "4e98f01b-ea8f-4522-bd26-a365219d54fb",
   "metadata": {},
   "source": [
    "# Konu Modelleme(Topic Modelling)"
   ]
  },
  {
   "cell_type": "markdown",
   "id": "bd79497c-abf1-4320-835f-af0e72bf6200",
   "metadata": {},
   "source": [
    "makine öğrenimi ve doğal dil işlemede toplanan belgelerin içindeki soyut konuları araştıran bir çeşit istatistiksel modeldir. Konu modelleme, bir anlamda metinlerin içerisindeki saklı anlamsal bağları araştıran bir metin madenciliğidir."
   ]
  },
  {
   "cell_type": "markdown",
   "id": "2426e324-a0ef-44f3-96d3-e8e6b76927ac",
   "metadata": {},
   "source": [
    "Doküman kümesini en iyi şekilde karakterize eden sözcük grupları ile benzer ifadeleri otomatik olarak kümeleyebilen gözetimsiz (unsupervised) öğrenme olan bir makine öğrenmesi tekniğidir.\n",
    "Konu modelleme genel olarak bir dokümanın konusunun ne hakkında olduğuyla ilgili fikir verir.Birlikte ortaya çıkan sözcükler koleksiyonun bir etiketi olarak düşünülebilinir."
   ]
  },
  {
   "cell_type": "markdown",
   "id": "56696e0a-8a8e-43fa-a636-5c80461fa511",
   "metadata": {},
   "source": [
    "### Konu Modelleme Yöntemleri"
   ]
  },
  {
   "cell_type": "markdown",
   "id": "0f842017-e264-4a84-9ebe-b00857b61e2f",
   "metadata": {},
   "source": [
    "#### - Gizli Anlamsal Analiz ( Lantent Semantic Analysis - LSA)\n",
    "#### - Negatif olmayan Matrix Faktorizasyonu ( Non Negative Matrix Factorization - NMF or NNMF)\n",
    "#### - Gizli Dirichlet Ayırımı ( Latent Dirichlet Allocation -LDA)\n",
    "#### - Pachinko Dağılım Modeli ( Pachinko Allocation Model)\n",
    "\n",
    "\n",
    "\n"
   ]
  },
  {
   "cell_type": "markdown",
   "id": "37fa1a3e-c656-4765-a3b3-145a77e629cc",
   "metadata": {
    "tags": []
   },
   "source": [
    "### * Latent Semantic Analysis (Gizli Anlamsal Analiz)\n",
    "LSA, kelimelerin geniş bir doküman koleksiyonunda bir araya geldiği, frekansların istatistiksel analizinden anlamsal uzay oluşturan bir algoritmadır. LSA’nın anlamsal uzay oluşturduğu sürece ‘eğitim’ denmektedir. Anlamsal uzay, dokümanda olan her bir kelimenin anlamsal özelliklerinin bulunduğu vektör dizisi içermektedir. Bu vektörler, anlamsal vektörler olarak adlandırılmaktadır."
   ]
  },
  {
   "cell_type": "markdown",
   "id": "c95e72d8-8be5-47c1-96f5-d5566bad5eb3",
   "metadata": {},
   "source": [
    "### * Gizli Dirichlet Ayırımı ( Latent Dirichlet Allocation -LDA)"
   ]
  },
  {
   "cell_type": "markdown",
   "id": "b5ae09a6-07e3-4663-ab09-2ba54834004c",
   "metadata": {},
   "source": [
    "#### Doğal dil işlemede gizli dirichlet ayrımı gözlem kümelerinin gözlemlenmeyen gruplar tarafından açıklanmasına izin veren ve verilerin bazı kısımlarının neden benzer olduğunu açıklayan bir istatistiki modeldir.olasılık tabanlı bir konu modelleme yöntemidir. Model bir dizi dokümandan kelime ağırlığına dayalı olarak konuları oluşturmaktadır. LDA’nın temelinde, konular kelimeler üzerinde bir olasılık dağılımına, metin belgeleri de konular üzerinde bir olasılık dağılımına sahiptir. Her bir konunun ise kelime dizisi üzerinde bir dağılımı olmaktadır.LDA denetimsiz öğrenme algoritmasıdır, önceden tanımlanmış kelimelere ihtiyaç duymamaktadır. Konu sayısı belirlendikten sonra, sınıflara göre konulara etiket atanmaktadır."
   ]
  },
  {
   "cell_type": "markdown",
   "id": "6453fac9-6f81-4e35-8db6-777052241020",
   "metadata": {},
   "source": [
    "#### Çalışma prensibi;\n",
    "\n",
    "Her doküman için dokümandaki kelimelere rastgele konu ataması yapmaktadır. Bu bilgiyi kullanarak model çeşitli istatistikler çıkartmaktadır.\n",
    "\n",
    "Yerel istatistik, her dokümandaki konulara kaç adet kelime atandığını gösterirken, global istatistik ise tüm doküman için her kelimenin her konuya kaç kere atandığını göstermektedir.\n",
    "\n",
    "İstatistiksel bilgiler elde edildikten sonra her doküman için her kelimenin yeniden konu ataması gerçekleştirilir. Bunun için mevcut kelime bilgileri sürekli iterasyon sayısı kadar güncellenmelidir.\n",
    "\n",
    "LDA algoritması için gensim kütüphanesi (Python) sık kullanılmaktadır.\n"
   ]
  },
  {
   "cell_type": "code",
   "execution_count": 1,
   "id": "928a13ba-7935-40ce-b614-842254efb78f",
   "metadata": {},
   "outputs": [],
   "source": [
    "# Örnek \n",
    "\n",
    "import numpy as np\n",
    "import pandas as pd"
   ]
  },
  {
   "cell_type": "code",
   "execution_count": 3,
   "id": "f6ce9346-d4d2-4f2a-9c51-107f9653e49e",
   "metadata": {},
   "outputs": [
    {
     "data": {
      "text/html": [
       "<div>\n",
       "<style scoped>\n",
       "    .dataframe tbody tr th:only-of-type {\n",
       "        vertical-align: middle;\n",
       "    }\n",
       "\n",
       "    .dataframe tbody tr th {\n",
       "        vertical-align: top;\n",
       "    }\n",
       "\n",
       "    .dataframe thead th {\n",
       "        text-align: right;\n",
       "    }\n",
       "</style>\n",
       "<table border=\"1\" class=\"dataframe\">\n",
       "  <thead>\n",
       "    <tr style=\"text-align: right;\">\n",
       "      <th></th>\n",
       "      <th>main_image</th>\n",
       "      <th>published</th>\n",
       "      <th>site</th>\n",
       "      <th>text</th>\n",
       "      <th>title</th>\n",
       "      <th>url</th>\n",
       "    </tr>\n",
       "    <tr>\n",
       "      <th>id</th>\n",
       "      <th></th>\n",
       "      <th></th>\n",
       "      <th></th>\n",
       "      <th></th>\n",
       "      <th></th>\n",
       "      <th></th>\n",
       "    </tr>\n",
       "  </thead>\n",
       "  <tbody>\n",
       "    <tr>\n",
       "      <th>72337</th>\n",
       "      <td>\"http://www.diken.com.tr/wp-content/uploads/20...</td>\n",
       "      <td>\"2019-03-04T13:33:00.000+02:00\"</td>\n",
       "      <td>\"diken.com.tr\"</td>\n",
       "      <td>\"Yatırım bankası: Dolar/TL üçüncü çeyrekte 8.9...</td>\n",
       "      <td>\"Yatırım bankası: Dolar/TL üçüncü çeyrekte 8.9...</td>\n",
       "      <td>\"http://www.diken.com.tr/yatirim-bankasi-dolar...</td>\n",
       "    </tr>\n",
       "    <tr>\n",
       "      <th>72338</th>\n",
       "      <td>\"http://www.diken.com.tr/wp-content/uploads/20...</td>\n",
       "      <td>\"2019-03-04T13:21:00.000+02:00\"</td>\n",
       "      <td>\"diken.com.tr\"</td>\n",
       "      <td>\"PİAR Araştırma: Adana ve Antalya’da ‘millet i...</td>\n",
       "      <td>\"PİAR Araştırma: Adana ve Antalya’da ‘millet i...</td>\n",
       "      <td>\"http://www.diken.com.tr/piar-arastirma-adana-...</td>\n",
       "    </tr>\n",
       "    <tr>\n",
       "      <th>72339</th>\n",
       "      <td>\"http://www.diken.com.tr/wp-content/uploads/20...</td>\n",
       "      <td>\"2019-03-04T12:20:00.000+02:00\"</td>\n",
       "      <td>\"diken.com.tr\"</td>\n",
       "      <td>\"Renaissance Capital: Merkez Bankası bu hafta ...</td>\n",
       "      <td>\"Renaissance Capital: Merkez Bankası bu hafta ...</td>\n",
       "      <td>\"http://www.diken.com.tr/renaissance-capital-m...</td>\n",
       "    </tr>\n",
       "    <tr>\n",
       "      <th>72340</th>\n",
       "      <td>\"http://www.diken.com.tr/wp-content/uploads/20...</td>\n",
       "      <td>\"2019-03-04T11:53:00.000+02:00\"</td>\n",
       "      <td>\"diken.com.tr\"</td>\n",
       "      <td>\"Ağrı’daki İYİ Partililerin istifa gerekçesi: ...</td>\n",
       "      <td>\"Ağrı’daki İYİ Partililerin istifa gerekçesi: ...</td>\n",
       "      <td>\"http://www.diken.com.tr/agridaki-iyi-partilil...</td>\n",
       "    </tr>\n",
       "    <tr>\n",
       "      <th>72341</th>\n",
       "      <td>\"http://www.diken.com.tr/wp-content/uploads/20...</td>\n",
       "      <td>\"2019-03-04T11:52:00.000+02:00\"</td>\n",
       "      <td>\"diken.com.tr\"</td>\n",
       "      <td>\"Otomobil pazarı iki ayda yarı yarıya eridi 04...</td>\n",
       "      <td>\"Otomobil pazarı iki ayda yarı yarıya eridi\"</td>\n",
       "      <td>\"http://www.diken.com.tr/otomobil-pazari-iki-a...</td>\n",
       "    </tr>\n",
       "  </tbody>\n",
       "</table>\n",
       "</div>"
      ],
      "text/plain": [
       "                                              main_image  \\\n",
       "id                                                         \n",
       "72337  \"http://www.diken.com.tr/wp-content/uploads/20...   \n",
       "72338  \"http://www.diken.com.tr/wp-content/uploads/20...   \n",
       "72339  \"http://www.diken.com.tr/wp-content/uploads/20...   \n",
       "72340  \"http://www.diken.com.tr/wp-content/uploads/20...   \n",
       "72341  \"http://www.diken.com.tr/wp-content/uploads/20...   \n",
       "\n",
       "                             published            site  \\\n",
       "id                                                       \n",
       "72337  \"2019-03-04T13:33:00.000+02:00\"  \"diken.com.tr\"   \n",
       "72338  \"2019-03-04T13:21:00.000+02:00\"  \"diken.com.tr\"   \n",
       "72339  \"2019-03-04T12:20:00.000+02:00\"  \"diken.com.tr\"   \n",
       "72340  \"2019-03-04T11:53:00.000+02:00\"  \"diken.com.tr\"   \n",
       "72341  \"2019-03-04T11:52:00.000+02:00\"  \"diken.com.tr\"   \n",
       "\n",
       "                                                    text  \\\n",
       "id                                                         \n",
       "72337  \"Yatırım bankası: Dolar/TL üçüncü çeyrekte 8.9...   \n",
       "72338  \"PİAR Araştırma: Adana ve Antalya’da ‘millet i...   \n",
       "72339  \"Renaissance Capital: Merkez Bankası bu hafta ...   \n",
       "72340  \"Ağrı’daki İYİ Partililerin istifa gerekçesi: ...   \n",
       "72341  \"Otomobil pazarı iki ayda yarı yarıya eridi 04...   \n",
       "\n",
       "                                                   title  \\\n",
       "id                                                         \n",
       "72337  \"Yatırım bankası: Dolar/TL üçüncü çeyrekte 8.9...   \n",
       "72338  \"PİAR Araştırma: Adana ve Antalya’da ‘millet i...   \n",
       "72339  \"Renaissance Capital: Merkez Bankası bu hafta ...   \n",
       "72340  \"Ağrı’daki İYİ Partililerin istifa gerekçesi: ...   \n",
       "72341       \"Otomobil pazarı iki ayda yarı yarıya eridi\"   \n",
       "\n",
       "                                                     url  \n",
       "id                                                        \n",
       "72337  \"http://www.diken.com.tr/yatirim-bankasi-dolar...  \n",
       "72338  \"http://www.diken.com.tr/piar-arastirma-adana-...  \n",
       "72339  \"http://www.diken.com.tr/renaissance-capital-m...  \n",
       "72340  \"http://www.diken.com.tr/agridaki-iyi-partilil...  \n",
       "72341  \"http://www.diken.com.tr/otomobil-pazari-iki-a...  "
      ]
     },
     "execution_count": 3,
     "metadata": {},
     "output_type": "execute_result"
    }
   ],
   "source": [
    "df = pd.read_csv(\"turkish_news_70000.csv\", index_col = \"id\")\n",
    "\n",
    "df.head()"
   ]
  },
  {
   "cell_type": "code",
   "execution_count": 4,
   "id": "edbf0b36-a28d-4477-a29b-97b528339204",
   "metadata": {},
   "outputs": [
    {
     "data": {
      "text/html": [
       "<div>\n",
       "<style scoped>\n",
       "    .dataframe tbody tr th:only-of-type {\n",
       "        vertical-align: middle;\n",
       "    }\n",
       "\n",
       "    .dataframe tbody tr th {\n",
       "        vertical-align: top;\n",
       "    }\n",
       "\n",
       "    .dataframe thead th {\n",
       "        text-align: right;\n",
       "    }\n",
       "</style>\n",
       "<table border=\"1\" class=\"dataframe\">\n",
       "  <thead>\n",
       "    <tr style=\"text-align: right;\">\n",
       "      <th></th>\n",
       "      <th>text</th>\n",
       "    </tr>\n",
       "    <tr>\n",
       "      <th>id</th>\n",
       "      <th></th>\n",
       "    </tr>\n",
       "  </thead>\n",
       "  <tbody>\n",
       "    <tr>\n",
       "      <th>72337</th>\n",
       "      <td>\"Yatırım bankası: Dolar/TL üçüncü çeyrekte 8.9...</td>\n",
       "    </tr>\n",
       "    <tr>\n",
       "      <th>72338</th>\n",
       "      <td>\"PİAR Araştırma: Adana ve Antalya’da ‘millet i...</td>\n",
       "    </tr>\n",
       "    <tr>\n",
       "      <th>72339</th>\n",
       "      <td>\"Renaissance Capital: Merkez Bankası bu hafta ...</td>\n",
       "    </tr>\n",
       "  </tbody>\n",
       "</table>\n",
       "</div>"
      ],
      "text/plain": [
       "                                                    text\n",
       "id                                                      \n",
       "72337  \"Yatırım bankası: Dolar/TL üçüncü çeyrekte 8.9...\n",
       "72338  \"PİAR Araştırma: Adana ve Antalya’da ‘millet i...\n",
       "72339  \"Renaissance Capital: Merkez Bankası bu hafta ..."
      ]
     },
     "execution_count": 4,
     "metadata": {},
     "output_type": "execute_result"
    }
   ],
   "source": [
    "haber_veriseti = df[[\"text\"]]\n",
    "haber_veriseti.head(3)"
   ]
  },
  {
   "cell_type": "code",
   "execution_count": 5,
   "id": "a466fb94-1617-4860-9db0-73dec73b844f",
   "metadata": {},
   "outputs": [],
   "source": [
    "# Metin Temizleme\n",
    "# 1) Veri setindeki tüm harfleri küçük duruma getirmek\n",
    "# 2) Noktalama işaretlerini kaldırmak\n",
    "# 3) Etkisiz kelimeleri kaldırmak ( stopwords) "
   ]
  },
  {
   "cell_type": "markdown",
   "id": "34780d8b-335c-4efd-a264-53802d080ef6",
   "metadata": {},
   "source": [
    "##### Kendime not : Python Re Modülü\n",
    "\n",
    "Düzenli ifadeler (Regular Expressions) yazılım hayatınızda mutlaka karşınıza çıkacak bir terimdir. Çok sık çıkmaz ama kesinlikle çıkar.\n",
    "\n",
    "import re\n",
    "\n",
    "şeklinde projeniz içerisine aktardıktan sonra kullanmaya başlayabilirsiniz."
   ]
  },
  {
   "cell_type": "code",
   "execution_count": 37,
   "id": "9aa0e1c8-a0e8-4cf3-8f2d-93ece5d2ac21",
   "metadata": {},
   "outputs": [],
   "source": [
    "# Veri temizleme işlemi için, bir fonksiyon tanımlayalım ve\n",
    "# Bu fonksiyon bütün veri üzerinde uygulayalım\n",
    "# Öncesinde noktalama işaretleri ve stopwords kümelerini tanımlayalım\n",
    "\n",
    "import re\n",
    "import string\n",
    "import nltk\n",
    "from nltk.corpus import stopwords\n",
    "\n",
    "nok_isaretleri_kümesi = string.punctuation\n",
    "\n",
    "etkisiz_kelimeler_kümesi = stopwords.words(\"turkish\")\n",
    "\n",
    "# stopwords kümesine biz de istediğimiz kelimeleri ekleyebiliriz \n",
    " # örnek\n",
    "etkisiz_kelimeler_kümesi.extend([\"bir\",\"kadar\",\"sonra\"])\n",
    "\n",
    "def veri_temizleme(metin):\n",
    "    # Metindeki tüm harfleri küçük duruma getirelim\n",
    "    metin = metin.lower()\n",
    "    \n",
    "    # Verisetimizdeki yeni satır karakterleri, boşluk karakterleriyle değiştirdik\n",
    "    metin = metin.replace(\"\\\\n\",\" \")\n",
    "    \n",
    "    # Kesme işareti ve sonrasındaki karakterlerin kaldırılması\n",
    "    metin = re.sub(\"'(\\w+)\",\"\",metin)\n",
    "    metin = re.sub(\"`(\\w+)\",\"\",metin)\n",
    "    metin = re.sub(\"[',`]\",\"\", metin)\n",
    "    \n",
    "    # Sayıların kaldırılması \n",
    "    metin = re.sub(\"[0-9]+\",\"\",metin)\n",
    "   \n",
    "    # Noktalama işaretlerinin kaldırılması\n",
    "    metin = \"\".join(list(map(lambda x:x if x not in nok_isaretleri_kümesi else \" \",metin)))\n",
    "   \n",
    "    # Etkisiz elemanların bir kısmının kaldırılması\n",
    "    metin = \" \".join([i for i in metin.split() if i not in etkisiz_kelimeler_kümesi])\n",
    "    \n",
    "    # Metinde tek kalan harfleri çıkartalım\n",
    "    metin = \" \".join([i for i in metin.split() if len(i) > 1])\n",
    "    \n",
    "    return metin"
   ]
  },
  {
   "cell_type": "code",
   "execution_count": 38,
   "id": "e1fac129-7f58-4eb0-926d-7228a8f666ab",
   "metadata": {},
   "outputs": [
    {
     "data": {
      "text/plain": [
       "'\"Şubat ayında ihracat yüzde 3.7 arttı, ithalat yüzde 18.7 azaldı 04/03/2019 12:20\\\\nTicaret Bakanı Ruhsar Pekcan şubat ayında ihracatın yüzde 3.7 artışla 14 milyar 312 milyon dolar, ithalatın yüzde 18.7 azalışla 16 milyar 161 milyon dolar olarak gerçekleştiğini açıkladı. Fotoğraf: Reuters\\\\nBakan Pekcan şunları söyledi: “ Eskiden kullandığımız Özel Ticaret Sistemine göre de şubat ayında ihracatımız yüzde 3,5 artışla 13 milyar 603 milyon dolar olarak gerçekleşmiştir. ÖTS’ye göre ithalatımız şubat ayında yüzde 16,6 düşüşle 15 milyar 793 milyon dolar seviyesinde gerçekleşmiştir. ” Reklam\"'"
      ]
     },
     "execution_count": 38,
     "metadata": {},
     "output_type": "execute_result"
    }
   ],
   "source": [
    "haber_veriseti.iloc[5].text"
   ]
  },
  {
   "cell_type": "code",
   "execution_count": null,
   "id": "b599fa05-1a25-4507-9ed8-54f549fac64c",
   "metadata": {},
   "outputs": [],
   "source": []
  }
 ],
 "metadata": {
  "kernelspec": {
   "display_name": "Python 3 (ipykernel)",
   "language": "python",
   "name": "python3"
  },
  "language_info": {
   "codemirror_mode": {
    "name": "ipython",
    "version": 3
   },
   "file_extension": ".py",
   "mimetype": "text/x-python",
   "name": "python",
   "nbconvert_exporter": "python",
   "pygments_lexer": "ipython3",
   "version": "3.9.12"
  }
 },
 "nbformat": 4,
 "nbformat_minor": 5
}
