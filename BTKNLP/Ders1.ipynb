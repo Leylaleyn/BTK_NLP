{
 "cells": [
  {
   "cell_type": "markdown",
   "id": "8f14db2a-9f7e-485f-8bf4-e42324b3a551",
   "metadata": {},
   "source": [
    "## NLP 'nin Alt Başlıkları\n",
    "* Kelime Bilimi,\n",
    "* Söz Dizimi,\n",
    "* Anlamsal Analiz ve\n",
    "* Anlam Belirsizliği"
   ]
  },
  {
   "cell_type": "markdown",
   "id": "2426c12e-f9ec-4ae9-9ce8-d8b0ccfbf431",
   "metadata": {},
   "source": [
    "### 1-Kelime Bilimi\n",
    "\n",
    "- Bir dildeki sözcüklerin kökenlerini, o dilin diğer dillerle ve diğer topluluklarla olan kültürel ilişkilerini araştırır."
   ]
  },
  {
   "cell_type": "markdown",
   "id": "59cb44ba-30e4-461b-a163-b0aabb9731a1",
   "metadata": {},
   "source": [
    "### 2- Söz Dizimi(Syntax)\n",
    "\n",
    "- Doğal dillerdeki cümle kurma ilke ve kuralları, Cümlelerin esnekliğini inceleyen dil bilim dalıdır."
   ]
  },
  {
   "cell_type": "markdown",
   "id": "d60674e6-46b4-42f4-88b1-517aed0a99a8",
   "metadata": {},
   "source": [
    "### Anlamsal Analiz (Semantics)\n",
    "\n",
    "- Sözcük anlamı ve cümle anlamı\n",
    "- Aynı sözcük - farklı anlam\n",
    "- Durum bağlamı (context)\n",
    "\n",
    "mesela -> Ayşe kitap okumayı sever  İLE Kitap okumayı Ayşe sever\n"
   ]
  },
  {
   "cell_type": "markdown",
   "id": "10231804-c3be-49a5-9f56-6986881a4948",
   "metadata": {},
   "source": [
    "### Anlam Belirsizliği (Disambiguation)\n",
    "\n",
    "- Kelime anlamı - bağlam\n",
    "- farklı bağlam - farklı anlam"
   ]
  },
  {
   "cell_type": "markdown",
   "id": "a4e701c7-613e-4db6-b5a3-970161962145",
   "metadata": {},
   "source": [
    "## NLP 'nin Başlıca Araştırma Konuları\n",
    "\n",
    "- Varlık İsmi Tanıma,\n",
    "- Özetleme\n",
    "- Metin Normalizasyonu ve\n",
    "- Metin Sınıflandırma"
   ]
  },
  {
   "cell_type": "markdown",
   "id": "e423ca7f-13d7-4b45-bd5e-f4c719d82656",
   "metadata": {},
   "source": [
    "### Varlık İsmi Tanıma (NER)\n",
    "Metinde yer alan\n",
    "- özel isimlerin, tarih saat, lokasyon, kişi ve kurum adları"
   ]
  },
  {
   "cell_type": "markdown",
   "id": "d195f03a-a3ad-4200-9450-5153bbfbf063",
   "metadata": {},
   "source": [
    "### Özetleme (SUMMARİZATİON)\n",
    "- Çıkarıcı Özetleme ve Soyutlayıcı Özetleme olarak ikiye ayrılır;\n",
    "> Çıkarıcı özetleme : Metinde yer alan kelime ve cümleler\n",
    "> Soyutlayıcı özetleme : Metinde yer almayan kelime ve cümleler"
   ]
  },
  {
   "cell_type": "markdown",
   "id": "97c5051c-03bd-4410-8fe0-0ec52abd6ba6",
   "metadata": {},
   "source": [
    "### Metin Normalizasyonu (Text Normalization)\n",
    "\n",
    "* Yazım Hataları - kasti ve kasti olmayan\n",
    "* Analizler için yüksek başarı oranı"
   ]
  },
  {
   "cell_type": "markdown",
   "id": "916bbb05-c8cb-46c4-b3c2-614e11ba09d1",
   "metadata": {},
   "source": [
    "### Metin Sınıflandırma ( Text Classification)\n",
    "* *Metin sınıflandırma* Anlam, uzunluk vs\n",
    "> Arama motorlarında ilgili dokümanlar\n",
    "> Kullanıcıların alışveris alışkanlıkları"
   ]
  },
  {
   "cell_type": "markdown",
   "id": "7dbcfe24-9c5f-40bb-81ab-349597546808",
   "metadata": {},
   "source": [
    "## Temel Kütüphaneler"
   ]
  },
  {
   "cell_type": "markdown",
   "id": "793c6fdd-916b-4df2-868f-ae8cb7829f53",
   "metadata": {},
   "source": [
    "#### NLTK (Natural Language Toolkit)\n",
    "- İstatiksel ve sembolik NLP  ( Python dili kullanılmıştır) "
   ]
  },
  {
   "cell_type": "markdown",
   "id": "bc5fae35-b7b0-4129-b042-fa1d813d1d4d",
   "metadata": {},
   "source": [
    "#### spayCy\n",
    "\n",
    "- Açık Kaynak kodlu\n",
    "- Öğrenmek ve araştırmak yerine daha çok ürün odaklı kullanımlar için geliştirilmiştir\n",
    "- Makine öğrenme modellerinin yanı sıra sinir ağları modellerini de içerisinde barındırmaktadır"
   ]
  },
  {
   "cell_type": "markdown",
   "id": "89b1f7cf-8b26-4831-92dc-f4542eb57c8d",
   "metadata": {},
   "source": [
    "#### Zemberek\n",
    "- Türkçe doğal dil işleme için Java dilinde geliştirilmiştir"
   ]
  },
  {
   "cell_type": "markdown",
   "id": "8fa24821-53b3-47c8-a74c-19530ed51826",
   "metadata": {},
   "source": [
    "### Tokenize Etme İşlemi"
   ]
  },
  {
   "cell_type": "markdown",
   "id": "215274ec-e678-4f4d-913e-fc0bc7460a9f",
   "metadata": {},
   "source": [
    "#### Token Nedir?\n",
    "* Token'lar, anlamlı küçük birimlerdir, semboller, kelimeler,noktalama işaretleri, deyimler token'lara örnek verilebilir."
   ]
  },
  {
   "cell_type": "markdown",
   "id": "51e4bb15-97a2-4068-8f3b-4c87271a3eb6",
   "metadata": {},
   "source": [
    ">import nltk\n",
    "\n",
    ">from nltk import sentence_tokenize\n",
    "\n",
    ">from nltk import word_tokenize"
   ]
  },
  {
   "cell_type": "markdown",
   "id": "6a363dab-7ea4-4d21-8dd5-6cc771a53a39",
   "metadata": {},
   "source": [
    "## Gövdeleme (Stemming) ve Baş Sözcük (Lemmatization) Çıkarma ihtiyacı"
   ]
  },
  {
   "cell_type": "markdown",
   "id": "561fea5a-fb7a-450e-bdbf-379bcff8f0a2",
   "metadata": {},
   "source": [
    "* Çiçek-lik-ler (örnek kelime)\n",
    "\n",
    "* Çiçek (kök -stem)\n",
    "\n",
    "* Çiçek-lik ( baş gövde -lemma)\n",
    "\n",
    "* kelime : Civilizations\n",
    "\n",
    "kök(stem) : civil\n",
    "\n",
    "baş Sözcük(lemma) : civilization"
   ]
  },
  {
   "cell_type": "code",
   "execution_count": null,
   "id": "0acaad50-4f61-48a6-b66c-96db172abd22",
   "metadata": {},
   "outputs": [],
   "source": []
  }
 ],
 "metadata": {
  "kernelspec": {
   "display_name": "Python 3 (ipykernel)",
   "language": "python",
   "name": "python3"
  },
  "language_info": {
   "codemirror_mode": {
    "name": "ipython",
    "version": 3
   },
   "file_extension": ".py",
   "mimetype": "text/x-python",
   "name": "python",
   "nbconvert_exporter": "python",
   "pygments_lexer": "ipython3",
   "version": "3.9.12"
  }
 },
 "nbformat": 4,
 "nbformat_minor": 5
}
