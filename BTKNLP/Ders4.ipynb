{
 "cells": [
  {
   "cell_type": "markdown",
   "id": "f59ec13c-4f6f-4bb3-9df8-80371af5f7b6",
   "metadata": {},
   "source": [
    "### Dizilim Modelleri ( Sequence Models)"
   ]
  },
  {
   "cell_type": "markdown",
   "id": "6a2787f9-defd-4173-b142-1c4310193645",
   "metadata": {},
   "source": [
    "* Sıralı olan girdiler: Zaman serisi verileri, konuşma verileri, yazı verisi, video verisi\n",
    "* Geçmiş girdilerden gelen bilgiler"
   ]
  },
  {
   "cell_type": "markdown",
   "id": "9b373d2a-de5b-468f-aeee-3b8282dec7dd",
   "metadata": {},
   "source": [
    "Birçok NLP probleminin çözümünde yer alırlar:\n",
    "    \n",
    "    Dil modelleme\n",
    "    Bilgisayarlı Çeviri\n",
    "    Ses Tanıma\n",
    "    Yazım Hatası düzeltme    "
   ]
  },
  {
   "cell_type": "markdown",
   "id": "fd0187a2-725f-4507-98e8-207e345d3d0d",
   "metadata": {},
   "source": [
    "RNN\n"
   ]
  },
  {
   "cell_type": "markdown",
   "id": "f6a3c74c-cf47-433a-80fc-301350bcf1a4",
   "metadata": {},
   "source": [
    "### UZUN-KISA SÜRELİ BELLEK (LSTM)"
   ]
  },
  {
   "cell_type": "markdown",
   "id": "0f80863c-6539-4b5d-a5d9-6ccfb0a1ee3a",
   "metadata": {},
   "source": [
    "Not: LSTM RNN e göre daha iyi"
   ]
  },
  {
   "cell_type": "markdown",
   "id": "dc5d14e6-a605-4d01-8710-ac9c0ec460a0",
   "metadata": {},
   "source": [
    "* Uzun vadeli bağımlılık ( long-term dependency)\n",
    "* Kaybolan gradyanlar (vanishing gradient)\n",
    "* RNN' den daha karmaşık"
   ]
  },
  {
   "cell_type": "markdown",
   "id": "e634282b-d864-4976-9b61-302ce0766aef",
   "metadata": {},
   "source": [
    "#### * Unutma Kapısı ( Forget Gate)\n",
    "#### * Girdi Kapısı ( Input Gate)\n",
    "#### * Hücre durumunu güncelleme ( Updating Cell State)\n",
    "#### * Çıktı Kapısı ( Output Gate)"
   ]
  },
  {
   "cell_type": "markdown",
   "id": "b916121c-d0d1-4ea1-a117-aac5c066a58f",
   "metadata": {},
   "source": [
    "###  DÖNÜŞTÜRÜCÜ (TRANSFORMER)"
   ]
  },
  {
   "cell_type": "markdown",
   "id": "5bc0cb59-43c7-49d3-8c88-3e78b44805b5",
   "metadata": {},
   "source": [
    "* Paralel hesaplama problemini çözer.\n",
    "* Uzun vadeli bağımlılık-büyük ölçüde çözer\n",
    "* Encoder(Kodlayıcı) - Decoder(Kod çözücü)\n",
    "* Öz-dikkat Mekanizması (Self Attention)\n",
    "* Pozisyon(zaman) bilgisini korumak için pozisyonel kodlama"
   ]
  },
  {
   "cell_type": "code",
   "execution_count": 4,
   "id": "638bce97-5543-46ca-835f-a40869cef129",
   "metadata": {},
   "outputs": [
    {
     "data": {
      "text/html": [
       "<div>\n",
       "<style scoped>\n",
       "    .dataframe tbody tr th:only-of-type {\n",
       "        vertical-align: middle;\n",
       "    }\n",
       "\n",
       "    .dataframe tbody tr th {\n",
       "        vertical-align: top;\n",
       "    }\n",
       "\n",
       "    .dataframe thead th {\n",
       "        text-align: right;\n",
       "    }\n",
       "</style>\n",
       "<table border=\"1\" class=\"dataframe\">\n",
       "  <thead>\n",
       "    <tr style=\"text-align: right;\">\n",
       "      <th></th>\n",
       "      <th>Rating</th>\n",
       "      <th>Review</th>\n",
       "    </tr>\n",
       "  </thead>\n",
       "  <tbody>\n",
       "    <tr>\n",
       "      <th>0</th>\n",
       "      <td>1</td>\n",
       "      <td>3 yıldır tık demedi. :)</td>\n",
       "    </tr>\n",
       "    <tr>\n",
       "      <th>1</th>\n",
       "      <td>1</td>\n",
       "      <td>3 yıldır kullanıyorum müthiş</td>\n",
       "    </tr>\n",
       "    <tr>\n",
       "      <th>2</th>\n",
       "      <td>1</td>\n",
       "      <td>Ürün bugün elime geçti çok fazla inceleme fırs...</td>\n",
       "    </tr>\n",
       "    <tr>\n",
       "      <th>3</th>\n",
       "      <td>1</td>\n",
       "      <td>Almaya karar verdim. Hemencecik geldi. Keyifle...</td>\n",
       "    </tr>\n",
       "    <tr>\n",
       "      <th>4</th>\n",
       "      <td>1</td>\n",
       "      <td>Günlük kullanımınızı çok çok iyi karsılıyor kı...</td>\n",
       "    </tr>\n",
       "  </tbody>\n",
       "</table>\n",
       "</div>"
      ],
      "text/plain": [
       "   Rating                                             Review\n",
       "0       1                            3 yıldır tık demedi. :)\n",
       "1       1                      3 yıldır kullanıyorum müthiş \n",
       "2       1  Ürün bugün elime geçti çok fazla inceleme fırs...\n",
       "3       1  Almaya karar verdim. Hemencecik geldi. Keyifle...\n",
       "4       1  Günlük kullanımınızı çok çok iyi karsılıyor kı..."
      ]
     },
     "execution_count": 4,
     "metadata": {},
     "output_type": "execute_result"
    }
   ],
   "source": [
    "import pandas as pd\n",
    "df = pd.read_csv(\"hepsiburada.csv\")\n",
    "\n",
    "df.head()\n"
   ]
  },
  {
   "cell_type": "code",
   "execution_count": 7,
   "id": "38a9a28d-338c-4cbd-8bc3-3866a2ff98e1",
   "metadata": {},
   "outputs": [
    {
     "data": {
      "text/plain": [
       "1    229821\n",
       "0     13676\n",
       "Name: Rating, dtype: int64"
      ]
     },
     "execution_count": 7,
     "metadata": {},
     "output_type": "execute_result"
    }
   ],
   "source": [
    "df['Rating'].value_counts()  #olumlu yorumlar : 1  olumsuzlar : 0"
   ]
  },
  {
   "cell_type": "code",
   "execution_count": 10,
   "id": "132a167a-48f1-4432-8cf9-5fb4435fbf34",
   "metadata": {},
   "outputs": [
    {
     "name": "stdout",
     "output_type": "stream",
     "text": [
      "!\"#$%&'()*+,-./:;<=>?@[\\]^_`{|}~\n",
      "\n",
      "\n",
      "['acaba', 'ama', 'aslında', 'az', 'bazı', 'belki', 'biri', 'birkaç', 'birşey', 'biz', 'bu', 'çok', 'çünkü', 'da', 'daha', 'de', 'defa', 'diye', 'eğer', 'en', 'gibi', 'hem', 'hep', 'hepsi', 'her', 'hiç', 'için', 'ile', 'ise', 'kez', 'ki', 'kim', 'mı', 'mu', 'mü', 'nasıl', 'ne', 'neden', 'nerde', 'nerede', 'nereye', 'niçin', 'niye', 'o', 'sanki', 'şey', 'siz', 'şu', 'tüm', 've', 'veya', 'ya', 'yani']\n"
     ]
    }
   ],
   "source": [
    "# Veri Seti Önişleme\n",
    "\n",
    "import string  # noktalama işaretlerini tanımlamak için string kütüphanesini kullandık\n",
    "import re\n",
    "import nltk\n",
    "from nltk.corpus import stopwords\n",
    "\n",
    "noktalama = string.punctuation\n",
    "etkisiz = stopwords.words('turkish')\n",
    "print(noktalama)\n",
    "print(\"\\n\")\n",
    "print(etkisiz)"
   ]
  },
  {
   "cell_type": "code",
   "execution_count": 13,
   "id": "983abf4c-1ca7-4f25-b21e-d7c4058a1b51",
   "metadata": {},
   "outputs": [
    {
     "name": "stdout",
     "output_type": "stream",
     "text": [
      "3 yıldır tık demedi. :)\n",
      "--------------\n",
      " yıldır tık demedi. :) \n",
      "***********************\n",
      "3 yıldır kullanıyorum müthiş \n",
      "--------------\n",
      " yıldır kullanıyorum müthiş \n",
      "***********************\n",
      "Ürün bugün elime geçti çok fazla inceleme fırsatım olmadı ancak gözüme çarpan ilk şey usb bağlantısı için pil kapağının altında çok güzel yer yapmış olmaları, daha önceden o aparatı kaybetmiş biri olarak bu özelliğini çok sevdim. Ayrıca 1000dpi olması çok iyi bu tip farelerin çoğu 800dpi oluyor. Eğer sizde benim gibi masaüstü bilgisayarınızdan oyuncu faresi ile yüksek dpi ayarına alışmış biriyseniz windows ayarından fareyi en hızlıya getirin ve bu fareyi sipariş verin pişman olmazsınız. Teşekkürler Logitech\n",
      "--------------\n",
      " Ürün bugün elime geçti fazla inceleme fırsatım olmadı ancak gözüme çarpan ilk usb bağlantısı pil kapağının altında güzel yer yapmış olmaları, önceden aparatı kaybetmiş olarak özelliğini sevdim. Ayrıca 1000dpi olması iyi tip farelerin çoğu 800dpi oluyor. Eğer sizde benim masaüstü bilgisayarınızdan oyuncu faresi yüksek dpi ayarına alışmış biriyseniz windows ayarından fareyi hızlıya getirin fareyi sipariş verin pişman olmazsınız. Teşekkürler Logitech \n",
      "***********************\n",
      "Almaya karar verdim. Hemencecik geldi. Keyifle kullanıyorum\n",
      "--------------\n",
      " Almaya karar verdim. Hemencecik geldi. Keyifle kullanıyorum \n",
      "***********************\n",
      "Günlük kullanımınızı çok çok iyi karsılıyor kısaca mükemmel\n",
      "--------------\n",
      " Günlük kullanımınızı iyi karsılıyor kısaca mükemmel \n",
      "***********************\n"
     ]
    }
   ],
   "source": [
    "for d in df[\"Review\"].head():\n",
    "    print(d+ '\\n--------------')\n",
    "    # etkisiz kelimelerin atılması\n",
    "    \n",
    "    temp = \" \"\n",
    "    for word in d.split():\n",
    "        if word not in etkisiz and not word.isnumeric():\n",
    "            temp += word + ' '\n",
    "    \n",
    "    print(temp + '\\n***********************')\n",
    "    "
   ]
  },
  {
   "cell_type": "code",
   "execution_count": null,
   "id": "2d24fccd-bffc-4975-8e98-ffda23719ffb",
   "metadata": {},
   "outputs": [],
   "source": [
    "# noktalama işaretlerini çıkartalım"
   ]
  },
  {
   "cell_type": "code",
   "execution_count": 15,
   "id": "aa0008ce-e44c-45c9-870e-a32f0e79d00b",
   "metadata": {},
   "outputs": [
    {
     "name": "stdout",
     "output_type": "stream",
     "text": [
      "3 yıldır tık demedi. :)\n",
      "--------------\n",
      " 3 yıldır tık demedi \n",
      "***********************\n",
      "3 yıldır kullanıyorum müthiş \n",
      "--------------\n",
      " 3 yıldır kullanıyorum müthiş \n",
      "***********************\n",
      "Ürün bugün elime geçti çok fazla inceleme fırsatım olmadı ancak gözüme çarpan ilk şey usb bağlantısı için pil kapağının altında çok güzel yer yapmış olmaları, daha önceden o aparatı kaybetmiş biri olarak bu özelliğini çok sevdim. Ayrıca 1000dpi olması çok iyi bu tip farelerin çoğu 800dpi oluyor. Eğer sizde benim gibi masaüstü bilgisayarınızdan oyuncu faresi ile yüksek dpi ayarına alışmış biriyseniz windows ayarından fareyi en hızlıya getirin ve bu fareyi sipariş verin pişman olmazsınız. Teşekkürler Logitech\n",
      "--------------\n",
      " Ürün bugün elime geçti çok fazla inceleme fırsatım olmadı ancak gözüme çarpan ilk şey usb bağlantısı için pil kapağının altında çok güzel yer yapmış olmaları daha önceden o aparatı kaybetmiş biri olarak bu özelliğini çok sevdim Ayrıca 1000dpi olması çok iyi bu tip farelerin çoğu 800dpi oluyor Eğer sizde benim gibi masaüstü bilgisayarınızdan oyuncu faresi ile yüksek dpi ayarına alışmış biriyseniz windows ayarından fareyi en hızlıya getirin ve bu fareyi sipariş verin pişman olmazsınız Teşekkürler Logitech\n",
      "***********************\n",
      "Almaya karar verdim. Hemencecik geldi. Keyifle kullanıyorum\n",
      "--------------\n",
      " Almaya karar verdim Hemencecik geldi Keyifle kullanıyorum\n",
      "***********************\n",
      "Günlük kullanımınızı çok çok iyi karsılıyor kısaca mükemmel\n",
      "--------------\n",
      " Günlük kullanımınızı çok çok iyi karsılıyor kısaca mükemmel\n",
      "***********************\n"
     ]
    }
   ],
   "source": [
    "for d in df[\"Review\"].head():\n",
    "    print(d+ '\\n--------------')\n",
    "    # etkisiz kelimelerin atılması\n",
    "    \n",
    "    temp = \" \"\n",
    "    for word in d:\n",
    "        if word not in noktalama:\n",
    "            temp += word \n",
    "    \n",
    "    print(temp + '\\n***********************')\n",
    "    d = temp\n",
    "    "
   ]
  },
  {
   "cell_type": "code",
   "execution_count": 16,
   "id": "bb7f1ec6-5d7e-4678-8416-283bc549bfb3",
   "metadata": {},
   "outputs": [],
   "source": [
    "df.to_csv(r'./cleaned.csv', index = False)"
   ]
  },
  {
   "cell_type": "code",
   "execution_count": 17,
   "id": "05efc4ac-2f78-444c-a05b-8a85e9454c91",
   "metadata": {},
   "outputs": [],
   "source": [
    "# Temizlenmiş veriyi yüklüyoruz\n",
    "\n",
    "data = pd.read_csv('cleaned.csv',sep=\",\",names=['review','label'])"
   ]
  },
  {
   "cell_type": "code",
   "execution_count": 18,
   "id": "63bf4906-ca7f-424a-b656-cbf0a9474e43",
   "metadata": {},
   "outputs": [
    {
     "name": "stdout",
     "output_type": "stream",
     "text": [
      "   review                                              label\n",
      "0  Rating                                             Review\n",
      "1       1                            3 yıldır tık demedi. :)\n",
      "2       1                      3 yıldır kullanıyorum müthiş \n",
      "3       1  Ürün bugün elime geçti çok fazla inceleme fırs...\n",
      "4       1  Almaya karar verdim. Hemencecik geldi. Keyifle...\n"
     ]
    }
   ],
   "source": [
    "print(data.head())"
   ]
  },
  {
   "cell_type": "code",
   "execution_count": null,
   "id": "71938dff-e6ec-4487-b7fb-dd3a5840780c",
   "metadata": {},
   "outputs": [],
   "source": []
  }
 ],
 "metadata": {
  "kernelspec": {
   "display_name": "Python 3 (ipykernel)",
   "language": "python",
   "name": "python3"
  },
  "language_info": {
   "codemirror_mode": {
    "name": "ipython",
    "version": 3
   },
   "file_extension": ".py",
   "mimetype": "text/x-python",
   "name": "python",
   "nbconvert_exporter": "python",
   "pygments_lexer": "ipython3",
   "version": "3.9.12"
  }
 },
 "nbformat": 4,
 "nbformat_minor": 5
}
