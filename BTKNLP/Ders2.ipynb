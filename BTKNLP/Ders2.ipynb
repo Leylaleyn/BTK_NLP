{
 "cells": [
  {
   "cell_type": "markdown",
   "id": "3acea4c4-8aca-4684-9b65-0179c8e55f7f",
   "metadata": {},
   "source": [
    "# POSTagging ( Sözcük Türü İşaretleme)"
   ]
  },
  {
   "cell_type": "markdown",
   "id": "650105ec-d078-4dfc-9e52-53f8f0d2b9b2",
   "metadata": {},
   "source": [
    "POS  : Part-of-speech - sözcük türü\n",
    "\n",
    "POStagging - Sözcük türü işaretleme\n",
    "\n",
    "Sözcük Türleri : Sıfat, nesne, yüklem, bağlaç vb\n",
    "\n",
    "Amaç: Her kelimenin sözcük türünü işaretlemek"
   ]
  },
  {
   "cell_type": "markdown",
   "id": "a59b498c-3d34-473d-9955-0e2a0f39db97",
   "metadata": {},
   "source": [
    "* ADJ (Sıfat)\n",
    "* ADP (Edat)\n",
    "* ADV (Zarf)\n",
    "* AUX (Yardımcı / Ek fiil)\n",
    "* CCONJ (Bağlaç)\n",
    "* DET (Belirteç)\n",
    "* INTJ (Ünlem)\n",
    "* NOUN ( İsim)\n",
    "* NUM (Sayı)\n"
   ]
  },
  {
   "cell_type": "markdown",
   "id": "dd4cb090-0b5c-4f68-bd62-97b5342a99f4",
   "metadata": {},
   "source": [
    "### Postagging Yaklaşımları\n",
    "\n",
    "* #### Kural Tabanlı\n",
    "* #### Stokastik ;\n",
    "> * Üretken Model(Generative Model)\n",
    "> * Ayırıcı  Model (Discriminative Model)"
   ]
  },
  {
   "cell_type": "markdown",
   "id": "56b1bd49-de6a-4ee3-887b-ebe58e9ceec3",
   "metadata": {},
   "source": [
    "### * Kural Tabanlı Sözcük Türü İşaretleme Modelleri\n",
    "\n",
    "* #### Türü Bilinmeyen bir X kelimesi\n",
    "##### Sıfat Kuralı  : Zarf + X + İsim\n",
    "##### -ing Kuralı : Fiil + X(-ing ile bitmiş)\n",
    "##### Büyük harf Kuralı: X (Büyük harf ile başlamış)"
   ]
  },
  {
   "cell_type": "code",
   "execution_count": 1,
   "id": "2b8dffdc-0f3b-4a0b-a56c-5e91e2fe0e5f",
   "metadata": {},
   "outputs": [
    {
     "name": "stdout",
     "output_type": "stream",
     "text": [
      "Part of Speech: [('Can', 'MD'), ('you', 'PRP'), ('buy', 'VB'), ('me', 'PRP'), ('a', 'DT'), ('red', 'JJ'), ('chili', 'NN'), ('pepper', 'NN'), ('from', 'IN'), ('grocery', 'NN')]\n"
     ]
    }
   ],
   "source": [
    "# POSTagging\n",
    "\n",
    "import nltk \n",
    "tokens = nltk.word_tokenize(\"Can you buy me a red chili pepper from grocery\")\n",
    "print(\"Part of Speech:\", nltk.pos_tag(tokens))"
   ]
  },
  {
   "cell_type": "markdown",
   "id": "21e317a8-cb5a-402b-92c7-169ae724ae72",
   "metadata": {},
   "source": [
    "## Varlık İsmi Tanıma (NER)"
   ]
  },
  {
   "cell_type": "markdown",
   "id": "c4b94954-5c98-4aff-931f-465724379ec4",
   "metadata": {},
   "source": [
    "#### Amaç: Metinde geçen varlık isimlerini işaretlemek"
   ]
  },
  {
   "cell_type": "markdown",
   "id": "6dd05c3d-ccb0-47b2-b85c-900a9e4471e9",
   "metadata": {},
   "source": [
    "1. Varlık ismi bulma \n",
    "\n",
    "2. Varlık ismi sınıfını işaretleme"
   ]
  },
  {
   "cell_type": "markdown",
   "id": "16da9a40-6622-4aac-b6d7-74e05ca30909",
   "metadata": {},
   "source": [
    "Varlık isimleri: kişi , organizasyon, lokasyon, ülke, tarih ve zaman gibi sınıflardan oluşmaktadır"
   ]
  },
  {
   "cell_type": "markdown",
   "id": "eef19ac0-f204-42cd-83a3-980b024801f3",
   "metadata": {},
   "source": [
    "#### NER Yaklaşımları\n",
    "\n",
    "* Kural Tabanlı Yaklaşımlar\n",
    "> - Kural Türetilmesi\n",
    "> - Alt Eşleşmeler\n",
    "> Alana Özel İsim Varlık Sözlüğü\n",
    "\n",
    "* İstatiksel Modeller\n",
    "> - Dizi Etiketleme( Sequence Labelling)\n",
    "> - Özellik Tabanlı ( Feature - Based) Algoritmaları"
   ]
  },
  {
   "cell_type": "code",
   "execution_count": 6,
   "id": "b3ec2b63-7ac3-4180-af48-9d14768ec2be",
   "metadata": {},
   "outputs": [
    {
     "name": "stdout",
     "output_type": "stream",
     "text": [
      "(S\n",
      "  Legendary/JJ\n",
      "  scientist/NN\n",
      "  (PERSON Albert/NNP Einstein/NNP)\n",
      "  is/VBZ\n",
      "  born/VBN\n",
      "  in/IN\n",
      "  (GPE Ulm/NNP)\n",
      "  ,/,\n",
      "  (GPE Germany/NNP)\n",
      "  ./.)\n"
     ]
    }
   ],
   "source": [
    "# ornek\n",
    "\n",
    "import nltk\n",
    "from nltk import ne_chunk\n",
    "sentence = \"Legendary scientist Albert Einstein is born in Ulm, Germany.\"\n",
    "tokens = nltk.word_tokenize(sentence)\n",
    "tagged_tokens = nltk.pos_tag(tokens)\n",
    "entities = nltk.chunk.ne_chunk(tagged_tokens)\n",
    "print(entities)"
   ]
  },
  {
   "cell_type": "code",
   "execution_count": null,
   "id": "2c1cd016-8496-411e-a552-0e176ebbd4bb",
   "metadata": {},
   "outputs": [],
   "source": []
  }
 ],
 "metadata": {
  "kernelspec": {
   "display_name": "Python 3 (ipykernel)",
   "language": "python",
   "name": "python3"
  },
  "language_info": {
   "codemirror_mode": {
    "name": "ipython",
    "version": 3
   },
   "file_extension": ".py",
   "mimetype": "text/x-python",
   "name": "python",
   "nbconvert_exporter": "python",
   "pygments_lexer": "ipython3",
   "version": "3.9.12"
  }
 },
 "nbformat": 4,
 "nbformat_minor": 5
}
